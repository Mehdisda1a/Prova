{
 "cells": [
  {
   "cell_type": "code",
   "execution_count": 1,
   "id": "a36a997b",
   "metadata": {},
   "outputs": [],
   "source": [
    "\n",
    "from __future__ import print_function\n",
    "import pandas as pd\n",
    "import numpy as np\n",
    "import seaborn as sns\n",
    "import matplotlib.pyplot as plt\n",
    "%matplotlib inline\n",
    "import sklearn"
   ]
  },
  {
   "cell_type": "code",
   "execution_count": 2,
   "id": "9b6a240c",
   "metadata": {},
   "outputs": [],
   "source": [
    "from collections import Counter "
   ]
  },
  {
   "cell_type": "code",
   "execution_count": null,
   "id": "55ba167d",
   "metadata": {},
   "outputs": [],
   "source": [
    "# Read Training dataset as well as drop the index column\n",
    "training_data = pd.read_csv('./data/FIS_PAA_FEATURES_TRAIN.csv').drop('Unnamed: 0', axis = 1)\n",
    "\n",
    "\n",
    "# For each column heading we replace \"-\" and convert the heading in lowercase \n",
    "cleancolumn = []\n",
    "for i in range(len(training_data.columns)):\n",
    "    cleancolumn.append(training_data.columns[i].replace('-', '').lower())\n",
    "training_data.columns = cleancolumn"
   ]
  },
  {
   "cell_type": "code",
   "execution_count": null,
   "id": "73daa4b1",
   "metadata": {},
   "outputs": [],
   "source": [
    "training_data.head()"
   ]
  },
  {
   "cell_type": "code",
   "execution_count": null,
   "id": "a4facf60",
   "metadata": {},
   "outputs": [],
   "source": [
    "# Read Validation dataset as well as drop the index column\n",
    "test_data = pd.read_csv('./data/FIS_PAA_FEATURES_VAL.csv').drop('Unnamed: 0', axis = 1)\n",
    "\n",
    "\n",
    "# For each column heading we replace \"-\" and convert the heading in lowercase \n",
    "cleancolumn = []\n",
    "for i in range(len(test_data.columns)):\n",
    "    cleancolumn.append(test_data.columns[i].replace('-', '').lower())\n",
    "training_data.columns = cleancolumn"
   ]
  },
  {
   "cell_type": "code",
   "execution_count": null,
   "id": "530472a3",
   "metadata": {},
   "outputs": [],
   "source": [
    "# Describe the all statistical properties of the training dataset\n",
    "training_data[training_data.columns[1:]].describe()"
   ]
  },
  {
   "cell_type": "code",
   "execution_count": null,
   "id": "d03c48cb",
   "metadata": {},
   "outputs": [],
   "source": [
    "# This give you the calulation of the target lebels. Which category of the target lebel is how many percentage.\n",
    "total_len = len(training_data['flagdefaultrj'])\n",
    "percentage_labels = (training_data['flagdefaultrj'].value_counts()/total_len)*100\n",
    "percentage_labels"
   ]
  },
  {
   "cell_type": "code",
   "execution_count": null,
   "id": "e26a721c",
   "metadata": {},
   "outputs": [],
   "source": [
    "# This give you the calulation of the target lebels. Which category of the target lebel is how many percentage.\n",
    "total_len_test = len(test_data['flagdefaultrj'])\n",
    "percentage_labels_test = (test_data['flagdefaultrj'].value_counts()/total_len_test)*100\n",
    "percentage_labels_test"
   ]
  },
  {
   "cell_type": "code",
   "execution_count": null,
   "id": "bb4b2f69",
   "metadata": {},
   "outputs": [],
   "source": [
    "X = training_data.drop('flagdefaultrj', axis=1)\n",
    "y = training_data.flagdefaultrj"
   ]
  },
  {
   "cell_type": "code",
   "execution_count": null,
   "id": "cc3947f9",
   "metadata": {},
   "outputs": [],
   "source": [
    "from xgboost import XGBClassifier, plot_tree"
   ]
  },
  {
   "cell_type": "code",
   "execution_count": null,
   "id": "ab63229d",
   "metadata": {},
   "outputs": [],
   "source": [
    "X_train, X_test, y_train, y_test = train_test_split(X, y, random_state=42, stratify=y)"
   ]
  },
  {
   "cell_type": "code",
   "execution_count": null,
   "id": "7b4c2013",
   "metadata": {},
   "outputs": [],
   "source": [
    "params = {\n",
    "    'objective': 'binary:logistic', \n",
    "    'eval_metric': 'AUC', 'Colsample_bytree' : 0.8, 'max_depth' : 4, 'subsample' : 0.6, 'learning_rate' : 1,  \n",
    "    'min_child_weight' : 0, 'min_split_loss' : 2, 'reg_alpha' : 8, 'reg_lambda' : 1, 'max_delta_step' : 3\n",
    "    \n",
    "}\n",
    "xgbMod = XGBClassifier(**params, n_estimators=78)\n",
    "xgbMod.fit(X_train, y_train)"
   ]
  },
  {
   "cell_type": "code",
   "execution_count": null,
   "id": "c7caf8a6",
   "metadata": {},
   "outputs": [],
   "source": [
    "xgbMod.score(X_test, y_test)"
   ]
  },
  {
   "cell_type": "code",
   "execution_count": null,
   "id": "e288a688",
   "metadata": {},
   "outputs": [],
   "source": [
    "test_labels = xgbMod.predict_proba(np.array(X_test.values))[:,1]\n",
    "roc_auc_score(y_test, test_labels, average ='macro', sample_weight = None)"
   ]
  },
  {
   "cell_type": "code",
   "execution_count": null,
   "id": "525eec86",
   "metadata": {},
   "outputs": [],
   "source": [
    "plt.figure(figsize=(20,10))\n",
    "xgb.plot_tree(xgbMod, num_trees=0)\n",
    "plt.show()"
   ]
  }
 ],
 "metadata": {
  "kernelspec": {
   "display_name": "Python 3 (ipykernel)",
   "language": "python",
   "name": "python3"
  },
  "language_info": {
   "codemirror_mode": {
    "name": "ipython",
    "version": 3
   },
   "file_extension": ".py",
   "mimetype": "text/x-python",
   "name": "python",
   "nbconvert_exporter": "python",
   "pygments_lexer": "ipython3",
   "version": "3.11.5"
  }
 },
 "nbformat": 4,
 "nbformat_minor": 5
}
